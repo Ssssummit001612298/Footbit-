{
 "cells": [
  {
   "cell_type": "code",
   "execution_count": 2,
   "id": "9de51fe5",
   "metadata": {},
   "outputs": [],
   "source": [
    "import os\n",
    "import pandas as pd\n",
    "import sqlite3 as sql"
   ]
  },
  {
   "cell_type": "code",
   "execution_count": 45,
   "id": "d90bc496",
   "metadata": {},
   "outputs": [],
   "source": [
    "db_base_url = \"data/Footbit2_471DFB31-DC3A-4102-899A-55C904FDFF06\"\n",
    "base_extracted_url = \"data_extracted\"\n",
    "\n",
    "main_conn = sql.connect(os.path.join(db_base_url, 'main.db'))\n",
    "\n",
    "transactional_dbs_file = pd.read_sql_query(\"SELECT * FROM transactional_database\", main_conn).iloc[0].file_name\n",
    "transactional_conn = sql.connect(os.path.join(db_base_url, 'transactional', transactional_dbs_file))\n",
    "\n",
    "# data_streams = pd.read_sql_query(\"SELECT * FROM data_stream where device_name == 'footbit'\", main_conn).name.to_list()\n",
    "data_streams = ['ppg']\n",
    "\n",
    "experiments = pd.read_sql_query(\"SELECT * FROM experiment\", main_conn)\n",
    "experiments.start = pd.to_datetime(experiments.start)\n",
    "experiments.end = pd.to_datetime(experiments.end)"
   ]
  },
  {
   "cell_type": "code",
   "execution_count": 46,
   "id": "2f717b0a",
   "metadata": {},
   "outputs": [
    {
     "data": {
      "text/plain": [
       "['accel', 'ppg']"
      ]
     },
     "execution_count": 46,
     "metadata": {},
     "output_type": "execute_result"
    }
   ],
   "source": [
    "data_streams"
   ]
  },
  {
   "cell_type": "code",
   "execution_count": 40,
   "id": "1415e228",
   "metadata": {},
   "outputs": [
    {
     "data": {
      "text/html": [
       "<div>\n",
       "<style scoped>\n",
       "    .dataframe tbody tr th:only-of-type {\n",
       "        vertical-align: middle;\n",
       "    }\n",
       "\n",
       "    .dataframe tbody tr th {\n",
       "        vertical-align: top;\n",
       "    }\n",
       "\n",
       "    .dataframe thead th {\n",
       "        text-align: right;\n",
       "    }\n",
       "</style>\n",
       "<table border=\"1\" class=\"dataframe\">\n",
       "  <thead>\n",
       "    <tr style=\"text-align: right;\">\n",
       "      <th></th>\n",
       "      <th>id</th>\n",
       "      <th>name</th>\n",
       "      <th>uuid</th>\n",
       "      <th>description</th>\n",
       "      <th>created_at</th>\n",
       "      <th>start</th>\n",
       "      <th>end</th>\n",
       "      <th>ts</th>\n",
       "      <th>uploaded</th>\n",
       "      <th>active</th>\n",
       "      <th>track_gps</th>\n",
       "    </tr>\n",
       "  </thead>\n",
       "  <tbody>\n",
       "    <tr>\n",
       "      <th>0</th>\n",
       "      <td>1</td>\n",
       "      <td>exp1</td>\n",
       "      <td>58356CC4-11F8-4957-B09A-407BC8037E29</td>\n",
       "      <td></td>\n",
       "      <td>2023-02-08 16:37:08.979</td>\n",
       "      <td>2023-02-08 16:37:08.978</td>\n",
       "      <td>2023-02-08 16:37:21.014</td>\n",
       "      <td>2023-02-08 16:37:08.978</td>\n",
       "      <td>0</td>\n",
       "      <td>0</td>\n",
       "      <td>0</td>\n",
       "    </tr>\n",
       "  </tbody>\n",
       "</table>\n",
       "</div>"
      ],
      "text/plain": [
       "   id  name                                  uuid description  \\\n",
       "0   1  exp1  58356CC4-11F8-4957-B09A-407BC8037E29               \n",
       "\n",
       "                created_at                   start                     end  \\\n",
       "0  2023-02-08 16:37:08.979 2023-02-08 16:37:08.978 2023-02-08 16:37:21.014   \n",
       "\n",
       "                        ts  uploaded  active  track_gps  \n",
       "0  2023-02-08 16:37:08.978         0       0          0  "
      ]
     },
     "execution_count": 40,
     "metadata": {},
     "output_type": "execute_result"
    }
   ],
   "source": [
    "experiments.head(10)"
   ]
  },
  {
   "cell_type": "code",
   "execution_count": 66,
   "id": "abab6abf",
   "metadata": {},
   "outputs": [
    {
     "name": "stdout",
     "output_type": "stream",
     "text": [
      "SELECT * FROM accel WHERE ts BETWEEN 1675874228978000.0 AND 1675874241014000.0\n",
      "SELECT * FROM ppg WHERE ts BETWEEN 1675874228978000.0 AND 1675874241014000.0\n"
     ]
    }
   ],
   "source": [
    "# extract all experiments into csvs\n",
    "for exp in experiments.itertuples():\n",
    "    # make a dir for this experiment\n",
    "    exp_url = os.path.join(base_extracted_url, exp.name)\n",
    "    if not os.path.exists(exp_url):\n",
    "        os.makedirs(exp_url)\n",
    "    \n",
    "    start_date = exp.start\n",
    "    start_ts = exp.start.timestamp() * 1000000\n",
    "    end_date = exp.end\n",
    "    end_ts = exp.end.timestamp() * 1000000\n",
    "    \n",
    "    # get configurations for each datastream\n",
    "    for ds in data_streams:\n",
    "        sql = f\"SELECT * FROM {ds}_config WHERE ts BETWEEN '{start_date}' AND '{end_date}'\"\n",
    "        configs = pd.read_sql_query(sql, main_conn)\n",
    "        configs = configs.drop(['id', 'uploaded', 'device'], axis=1)\n",
    "        configs = configs.set_index('ts')\n",
    "        configs.to_csv(os.path.join(exp_url, f'{ds}_config.csv'))\n",
    "        \n",
    "    # save actual data stream data\n",
    "    for ds in data_streams:\n",
    "        sql = f\"SELECT * FROM {ds} WHERE ts BETWEEN {start_ts} AND {end_ts}\"\n",
    "        print(sql)\n",
    "        data = pd.read_sql_query(sql, transactional_conn)\n",
    "        data = data.drop(['device', 'created_at', 'uploaded', 'id'], axis=1)\n",
    "        data = data.set_index('ts')\n",
    "        data.to_csv(os.path.join(exp_url, f'{ds}_data.csv'))\n",
    "        \n",
    "    # collect heart rate\n",
    "    sql = f\"SELECT * FROM heart_rate WHERE ts BETWEEN {start_ts} AND {end_ts}\"\n",
    "    data = pd.read_sql_query(sql, transactional_conn)\n",
    "    data = data.drop(['device_name', 'created_at', 'uploaded', 'id'], axis=1)\n",
    "    data = data.set_index('ts')\n",
    "    data.to_csv(os.path.join(exp_url, 'heart_rate_data.csv'))"
   ]
  },
  {
   "cell_type": "code",
   "execution_count": null,
   "id": "5d4e14e2",
   "metadata": {},
   "outputs": [],
   "source": []
  }
 ],
 "metadata": {
  "kernelspec": {
   "display_name": "Python 3 (ipykernel)",
   "language": "python",
   "name": "python3"
  },
  "language_info": {
   "codemirror_mode": {
    "name": "ipython",
    "version": 3
   },
   "file_extension": ".py",
   "mimetype": "text/x-python",
   "name": "python",
   "nbconvert_exporter": "python",
   "pygments_lexer": "ipython3",
   "version": "3.10.9"
  }
 },
 "nbformat": 4,
 "nbformat_minor": 5
}
